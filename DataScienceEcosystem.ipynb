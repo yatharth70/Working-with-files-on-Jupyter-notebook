{
 "cells": [
  {
   "cell_type": "markdown",
   "id": "effeb3c3",
   "metadata": {},
   "source": [
    "# Data Science Tools and Ecosystem"
   ]
  },
  {
   "cell_type": "markdown",
   "id": "a25a514e",
   "metadata": {},
   "source": [
    "In this notebook, Data Science Tools and Ecosystem are summarized."
   ]
  },
  {
   "cell_type": "markdown",
   "id": "1d64a20f",
   "metadata": {},
   "source": [
    "**Objectives:**\n",
    "\n",
    "- List popular languages for Data Science\n",
    "- List commonly used libraries in Data Science\n",
    "- Create tables and ordered lists in Jupyter using Markdown\n",
    "- Convert minutes to hours using Python expressions\n",
    "- Understand and use open-source development environments for Data Science"
   ]
  },
  {
   "cell_type": "markdown",
   "id": "5c49c85d",
   "metadata": {},
   "source": [
    "Some of the popular languages that Data Scientists use are:\n",
    "\n",
    "1. Python\n",
    "2. R\n",
    "3. SQL\n",
    "4. Julia\n",
    "5. Scala"
   ]
  },
  {
   "cell_type": "markdown",
   "id": "f7e432cc",
   "metadata": {},
   "source": [
    "Some of the commonly used libraries used by Data Scientists include:\n",
    "\n",
    "1. NumPy\n",
    "2. Pandas\n",
    "3. Matplotlib\n",
    "4. Scikit-learn\n",
    "5. TensorFlow\n",
    "6. PyTorch\n"
   ]
  },
  {
   "cell_type": "markdown",
   "id": "2048680b",
   "metadata": {},
   "source": [
    "| Data Science Tools       |\n",
    "|--------------------------|\n",
    "| Jupyter Notebooks        |\n",
    "| RStudio                  |\n",
    "| Apache Zeppelin          |"
   ]
  },
  {
   "cell_type": "markdown",
   "id": "9dfa1153",
   "metadata": {},
   "source": [
    "### Below are a few examples of evaluating arithmetic expressions in Python.\n",
    "\n",
    "Data Science Tools:\n",
    "\n",
    "Jupyter Notebooks         \n",
    "RStudio                   \n",
    "Apache Zeppelin           "
   ]
  },
  {
   "cell_type": "code",
   "execution_count": 1,
   "id": "351bb041",
   "metadata": {},
   "outputs": [
    {
     "data": {
      "text/plain": [
       "17"
      ]
     },
     "execution_count": 1,
     "metadata": {},
     "output_type": "execute_result"
    }
   ],
   "source": [
    "(3*4)+5"
   ]
  },
  {
   "cell_type": "code",
   "execution_count": 2,
   "id": "0c59aa11",
   "metadata": {},
   "outputs": [
    {
     "data": {
      "text/plain": [
       "3.3333333333333335"
      ]
     },
     "execution_count": 2,
     "metadata": {},
     "output_type": "execute_result"
    }
   ],
   "source": [
    "minutes = 200\n",
    "hours = minutes / 60\n",
    "hours"
   ]
  },
  {
   "cell_type": "markdown",
   "id": "54519b49",
   "metadata": {},
   "source": [
    "## Author\n",
    "\n",
    "Yatharth Jain"
   ]
  }
 ],
 "metadata": {
  "kernelspec": {
   "display_name": "Python 3 (ipykernel)",
   "language": "python",
   "name": "python3"
  },
  "language_info": {
   "codemirror_mode": {
    "name": "ipython",
    "version": 3
   },
   "file_extension": ".py",
   "mimetype": "text/x-python",
   "name": "python",
   "nbconvert_exporter": "python",
   "pygments_lexer": "ipython3",
   "version": "3.11.5"
  }
 },
 "nbformat": 4,
 "nbformat_minor": 5
}
